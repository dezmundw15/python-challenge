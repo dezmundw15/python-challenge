{
 "cells": [
  {
   "cell_type": "code",
   "execution_count": 82,
   "metadata": {},
   "outputs": [],
   "source": [
    "import pandas as pd\n",
    "import numpy as np\n",
    "import os\n"
   ]
  },
  {
   "cell_type": "code",
   "execution_count": 83,
   "metadata": {},
   "outputs": [
    {
     "data": {
      "text/plain": [
       "'/Users/desmondwalker/Desktop/MINSTP201902DATA4/Homework/03 - Python/PyBank/Resources'"
      ]
     },
     "execution_count": 83,
     "metadata": {},
     "output_type": "execute_result"
    }
   ],
   "source": [
    "\n",
    "\n",
    "\n",
    "\n",
    "os.getcwd()\n",
    "\n",
    "\n"
   ]
  },
  {
   "cell_type": "code",
   "execution_count": 84,
   "metadata": {},
   "outputs": [
    {
     "data": {
      "text/plain": [
       "['Untitled.ipynb', '.gitkeep', '.ipynb_checkpoints', 'budget_data.csv']"
      ]
     },
     "execution_count": 84,
     "metadata": {},
     "output_type": "execute_result"
    }
   ],
   "source": [
    "\n",
    "os.listdir()"
   ]
  },
  {
   "cell_type": "code",
   "execution_count": 85,
   "metadata": {},
   "outputs": [],
   "source": [
    "file = \"budget_data.csv\""
   ]
  },
  {
   "cell_type": "code",
   "execution_count": 86,
   "metadata": {},
   "outputs": [],
   "source": [
    "df = pd.read_csv (file)"
   ]
  },
  {
   "cell_type": "code",
   "execution_count": 87,
   "metadata": {},
   "outputs": [
    {
     "data": {
      "text/html": [
       "<div>\n",
       "<style scoped>\n",
       "    .dataframe tbody tr th:only-of-type {\n",
       "        vertical-align: middle;\n",
       "    }\n",
       "\n",
       "    .dataframe tbody tr th {\n",
       "        vertical-align: top;\n",
       "    }\n",
       "\n",
       "    .dataframe thead th {\n",
       "        text-align: right;\n",
       "    }\n",
       "</style>\n",
       "<table border=\"1\" class=\"dataframe\">\n",
       "  <thead>\n",
       "    <tr style=\"text-align: right;\">\n",
       "      <th></th>\n",
       "      <th>Date</th>\n",
       "      <th>Profit/Losses</th>\n",
       "    </tr>\n",
       "  </thead>\n",
       "  <tbody>\n",
       "    <tr>\n",
       "      <th>0</th>\n",
       "      <td>Jan-2010</td>\n",
       "      <td>867884</td>\n",
       "    </tr>\n",
       "    <tr>\n",
       "      <th>1</th>\n",
       "      <td>Feb-2010</td>\n",
       "      <td>984655</td>\n",
       "    </tr>\n",
       "    <tr>\n",
       "      <th>2</th>\n",
       "      <td>Mar-2010</td>\n",
       "      <td>322013</td>\n",
       "    </tr>\n",
       "    <tr>\n",
       "      <th>3</th>\n",
       "      <td>Apr-2010</td>\n",
       "      <td>-69417</td>\n",
       "    </tr>\n",
       "    <tr>\n",
       "      <th>4</th>\n",
       "      <td>May-2010</td>\n",
       "      <td>310503</td>\n",
       "    </tr>\n",
       "    <tr>\n",
       "      <th>5</th>\n",
       "      <td>Jun-2010</td>\n",
       "      <td>522857</td>\n",
       "    </tr>\n",
       "    <tr>\n",
       "      <th>6</th>\n",
       "      <td>Jul-2010</td>\n",
       "      <td>1033096</td>\n",
       "    </tr>\n",
       "    <tr>\n",
       "      <th>7</th>\n",
       "      <td>Aug-2010</td>\n",
       "      <td>604885</td>\n",
       "    </tr>\n",
       "    <tr>\n",
       "      <th>8</th>\n",
       "      <td>Sep-2010</td>\n",
       "      <td>-216386</td>\n",
       "    </tr>\n",
       "    <tr>\n",
       "      <th>9</th>\n",
       "      <td>Oct-2010</td>\n",
       "      <td>477532</td>\n",
       "    </tr>\n",
       "  </tbody>\n",
       "</table>\n",
       "</div>"
      ],
      "text/plain": [
       "       Date  Profit/Losses\n",
       "0  Jan-2010         867884\n",
       "1  Feb-2010         984655\n",
       "2  Mar-2010         322013\n",
       "3  Apr-2010         -69417\n",
       "4  May-2010         310503\n",
       "5  Jun-2010         522857\n",
       "6  Jul-2010        1033096\n",
       "7  Aug-2010         604885\n",
       "8  Sep-2010        -216386\n",
       "9  Oct-2010         477532"
      ]
     },
     "execution_count": 87,
     "metadata": {},
     "output_type": "execute_result"
    }
   ],
   "source": [
    "df.head(10)"
   ]
  },
  {
   "cell_type": "code",
   "execution_count": 88,
   "metadata": {},
   "outputs": [
    {
     "data": {
      "text/plain": [
       "Date             86\n",
       "Profit/Losses    86\n",
       "dtype: int64"
      ]
     },
     "execution_count": 88,
     "metadata": {},
     "output_type": "execute_result"
    }
   ],
   "source": [
    "df.count()\n"
   ]
  },
  {
   "cell_type": "code",
   "execution_count": 89,
   "metadata": {},
   "outputs": [
    {
     "data": {
      "text/plain": [
       "Nov-2011    1\n",
       "Mar-2014    1\n",
       "Apr-2012    1\n",
       "May-2011    1\n",
       "Jan-2016    1\n",
       "May-2010    1\n",
       "Sep-2016    1\n",
       "Oct-2012    1\n",
       "Aug-2016    1\n",
       "Feb-2014    1\n",
       "Oct-2014    1\n",
       "Aug-2011    1\n",
       "Feb-2013    1\n",
       "Aug-2015    1\n",
       "Mar-2010    1\n",
       "Jun-2015    1\n",
       "Oct-2011    1\n",
       "Nov-2010    1\n",
       "Nov-2012    1\n",
       "Dec-2010    1\n",
       "Apr-2016    1\n",
       "Sep-2011    1\n",
       "Jan-2010    1\n",
       "Nov-2016    1\n",
       "Jun-2013    1\n",
       "Nov-2015    1\n",
       "Apr-2013    1\n",
       "Apr-2010    1\n",
       "Oct-2015    1\n",
       "Dec-2014    1\n",
       "           ..\n",
       "Jul-2010    1\n",
       "May-2012    1\n",
       "Aug-2013    1\n",
       "Feb-2010    1\n",
       "Jan-2014    1\n",
       "Feb-2011    1\n",
       "Jul-2012    1\n",
       "Jun-2010    1\n",
       "Mar-2015    1\n",
       "Mar-2012    1\n",
       "Dec-2011    1\n",
       "Feb-2012    1\n",
       "Nov-2013    1\n",
       "Feb-2015    1\n",
       "Dec-2013    1\n",
       "Oct-2013    1\n",
       "Jun-2011    1\n",
       "Jul-2013    1\n",
       "Jan-2013    1\n",
       "May-2014    1\n",
       "Mar-2011    1\n",
       "May-2015    1\n",
       "Apr-2011    1\n",
       "Jan-2017    1\n",
       "Nov-2014    1\n",
       "Sep-2014    1\n",
       "Feb-2016    1\n",
       "Jul-2014    1\n",
       "Oct-2016    1\n",
       "Dec-2016    1\n",
       "Name: Date, Length: 86, dtype: int64"
      ]
     },
     "execution_count": 89,
     "metadata": {},
     "output_type": "execute_result"
    }
   ],
   "source": [
    "df['Date'].value_counts()"
   ]
  },
  {
   "cell_type": "code",
   "execution_count": 90,
   "metadata": {},
   "outputs": [],
   "source": [
    "df_months = df.groupby(['Date'])"
   ]
  },
  {
   "cell_type": "code",
   "execution_count": 91,
   "metadata": {},
   "outputs": [
    {
     "name": "stdout",
     "output_type": "stream",
     "text": [
      "<pandas.core.groupby.groupby.DataFrameGroupBy object at 0x11567f668>\n"
     ]
    }
   ],
   "source": [
    "print (df_months)"
   ]
  },
  {
   "cell_type": "code",
   "execution_count": 92,
   "metadata": {},
   "outputs": [
    {
     "data": {
      "text/html": [
       "<div>\n",
       "<style scoped>\n",
       "    .dataframe tbody tr th:only-of-type {\n",
       "        vertical-align: middle;\n",
       "    }\n",
       "\n",
       "    .dataframe tbody tr th {\n",
       "        vertical-align: top;\n",
       "    }\n",
       "\n",
       "    .dataframe thead th {\n",
       "        text-align: right;\n",
       "    }\n",
       "</style>\n",
       "<table border=\"1\" class=\"dataframe\">\n",
       "  <thead>\n",
       "    <tr style=\"text-align: right;\">\n",
       "      <th></th>\n",
       "      <th>Profit/Losses</th>\n",
       "    </tr>\n",
       "    <tr>\n",
       "      <th>Date</th>\n",
       "      <th></th>\n",
       "    </tr>\n",
       "  </thead>\n",
       "  <tbody>\n",
       "    <tr>\n",
       "      <th>Apr-2010</th>\n",
       "      <td>1</td>\n",
       "    </tr>\n",
       "    <tr>\n",
       "      <th>Apr-2011</th>\n",
       "      <td>1</td>\n",
       "    </tr>\n",
       "    <tr>\n",
       "      <th>Apr-2012</th>\n",
       "      <td>1</td>\n",
       "    </tr>\n",
       "    <tr>\n",
       "      <th>Apr-2013</th>\n",
       "      <td>1</td>\n",
       "    </tr>\n",
       "    <tr>\n",
       "      <th>Apr-2014</th>\n",
       "      <td>1</td>\n",
       "    </tr>\n",
       "    <tr>\n",
       "      <th>Apr-2015</th>\n",
       "      <td>1</td>\n",
       "    </tr>\n",
       "    <tr>\n",
       "      <th>Apr-2016</th>\n",
       "      <td>1</td>\n",
       "    </tr>\n",
       "    <tr>\n",
       "      <th>Aug-2010</th>\n",
       "      <td>1</td>\n",
       "    </tr>\n",
       "    <tr>\n",
       "      <th>Aug-2011</th>\n",
       "      <td>1</td>\n",
       "    </tr>\n",
       "    <tr>\n",
       "      <th>Aug-2012</th>\n",
       "      <td>1</td>\n",
       "    </tr>\n",
       "    <tr>\n",
       "      <th>Aug-2013</th>\n",
       "      <td>1</td>\n",
       "    </tr>\n",
       "    <tr>\n",
       "      <th>Aug-2014</th>\n",
       "      <td>1</td>\n",
       "    </tr>\n",
       "    <tr>\n",
       "      <th>Aug-2015</th>\n",
       "      <td>1</td>\n",
       "    </tr>\n",
       "    <tr>\n",
       "      <th>Aug-2016</th>\n",
       "      <td>1</td>\n",
       "    </tr>\n",
       "    <tr>\n",
       "      <th>Dec-2010</th>\n",
       "      <td>1</td>\n",
       "    </tr>\n",
       "    <tr>\n",
       "      <th>Dec-2011</th>\n",
       "      <td>1</td>\n",
       "    </tr>\n",
       "    <tr>\n",
       "      <th>Dec-2012</th>\n",
       "      <td>1</td>\n",
       "    </tr>\n",
       "    <tr>\n",
       "      <th>Dec-2013</th>\n",
       "      <td>1</td>\n",
       "    </tr>\n",
       "    <tr>\n",
       "      <th>Dec-2014</th>\n",
       "      <td>1</td>\n",
       "    </tr>\n",
       "    <tr>\n",
       "      <th>Dec-2015</th>\n",
       "      <td>1</td>\n",
       "    </tr>\n",
       "    <tr>\n",
       "      <th>Dec-2016</th>\n",
       "      <td>1</td>\n",
       "    </tr>\n",
       "    <tr>\n",
       "      <th>Feb-2010</th>\n",
       "      <td>1</td>\n",
       "    </tr>\n",
       "    <tr>\n",
       "      <th>Feb-2011</th>\n",
       "      <td>1</td>\n",
       "    </tr>\n",
       "    <tr>\n",
       "      <th>Feb-2012</th>\n",
       "      <td>1</td>\n",
       "    </tr>\n",
       "    <tr>\n",
       "      <th>Feb-2013</th>\n",
       "      <td>1</td>\n",
       "    </tr>\n",
       "    <tr>\n",
       "      <th>Feb-2014</th>\n",
       "      <td>1</td>\n",
       "    </tr>\n",
       "    <tr>\n",
       "      <th>Feb-2015</th>\n",
       "      <td>1</td>\n",
       "    </tr>\n",
       "    <tr>\n",
       "      <th>Feb-2016</th>\n",
       "      <td>1</td>\n",
       "    </tr>\n",
       "    <tr>\n",
       "      <th>Feb-2017</th>\n",
       "      <td>1</td>\n",
       "    </tr>\n",
       "    <tr>\n",
       "      <th>Jan-2010</th>\n",
       "      <td>1</td>\n",
       "    </tr>\n",
       "    <tr>\n",
       "      <th>...</th>\n",
       "      <td>...</td>\n",
       "    </tr>\n",
       "    <tr>\n",
       "      <th>Mar-2015</th>\n",
       "      <td>1</td>\n",
       "    </tr>\n",
       "    <tr>\n",
       "      <th>Mar-2016</th>\n",
       "      <td>1</td>\n",
       "    </tr>\n",
       "    <tr>\n",
       "      <th>May-2010</th>\n",
       "      <td>1</td>\n",
       "    </tr>\n",
       "    <tr>\n",
       "      <th>May-2011</th>\n",
       "      <td>1</td>\n",
       "    </tr>\n",
       "    <tr>\n",
       "      <th>May-2012</th>\n",
       "      <td>1</td>\n",
       "    </tr>\n",
       "    <tr>\n",
       "      <th>May-2013</th>\n",
       "      <td>1</td>\n",
       "    </tr>\n",
       "    <tr>\n",
       "      <th>May-2014</th>\n",
       "      <td>1</td>\n",
       "    </tr>\n",
       "    <tr>\n",
       "      <th>May-2015</th>\n",
       "      <td>1</td>\n",
       "    </tr>\n",
       "    <tr>\n",
       "      <th>May-2016</th>\n",
       "      <td>1</td>\n",
       "    </tr>\n",
       "    <tr>\n",
       "      <th>Nov-2010</th>\n",
       "      <td>1</td>\n",
       "    </tr>\n",
       "    <tr>\n",
       "      <th>Nov-2011</th>\n",
       "      <td>1</td>\n",
       "    </tr>\n",
       "    <tr>\n",
       "      <th>Nov-2012</th>\n",
       "      <td>1</td>\n",
       "    </tr>\n",
       "    <tr>\n",
       "      <th>Nov-2013</th>\n",
       "      <td>1</td>\n",
       "    </tr>\n",
       "    <tr>\n",
       "      <th>Nov-2014</th>\n",
       "      <td>1</td>\n",
       "    </tr>\n",
       "    <tr>\n",
       "      <th>Nov-2015</th>\n",
       "      <td>1</td>\n",
       "    </tr>\n",
       "    <tr>\n",
       "      <th>Nov-2016</th>\n",
       "      <td>1</td>\n",
       "    </tr>\n",
       "    <tr>\n",
       "      <th>Oct-2010</th>\n",
       "      <td>1</td>\n",
       "    </tr>\n",
       "    <tr>\n",
       "      <th>Oct-2011</th>\n",
       "      <td>1</td>\n",
       "    </tr>\n",
       "    <tr>\n",
       "      <th>Oct-2012</th>\n",
       "      <td>1</td>\n",
       "    </tr>\n",
       "    <tr>\n",
       "      <th>Oct-2013</th>\n",
       "      <td>1</td>\n",
       "    </tr>\n",
       "    <tr>\n",
       "      <th>Oct-2014</th>\n",
       "      <td>1</td>\n",
       "    </tr>\n",
       "    <tr>\n",
       "      <th>Oct-2015</th>\n",
       "      <td>1</td>\n",
       "    </tr>\n",
       "    <tr>\n",
       "      <th>Oct-2016</th>\n",
       "      <td>1</td>\n",
       "    </tr>\n",
       "    <tr>\n",
       "      <th>Sep-2010</th>\n",
       "      <td>1</td>\n",
       "    </tr>\n",
       "    <tr>\n",
       "      <th>Sep-2011</th>\n",
       "      <td>1</td>\n",
       "    </tr>\n",
       "    <tr>\n",
       "      <th>Sep-2012</th>\n",
       "      <td>1</td>\n",
       "    </tr>\n",
       "    <tr>\n",
       "      <th>Sep-2013</th>\n",
       "      <td>1</td>\n",
       "    </tr>\n",
       "    <tr>\n",
       "      <th>Sep-2014</th>\n",
       "      <td>1</td>\n",
       "    </tr>\n",
       "    <tr>\n",
       "      <th>Sep-2015</th>\n",
       "      <td>1</td>\n",
       "    </tr>\n",
       "    <tr>\n",
       "      <th>Sep-2016</th>\n",
       "      <td>1</td>\n",
       "    </tr>\n",
       "  </tbody>\n",
       "</table>\n",
       "<p>86 rows × 1 columns</p>\n",
       "</div>"
      ],
      "text/plain": [
       "          Profit/Losses\n",
       "Date                   \n",
       "Apr-2010              1\n",
       "Apr-2011              1\n",
       "Apr-2012              1\n",
       "Apr-2013              1\n",
       "Apr-2014              1\n",
       "Apr-2015              1\n",
       "Apr-2016              1\n",
       "Aug-2010              1\n",
       "Aug-2011              1\n",
       "Aug-2012              1\n",
       "Aug-2013              1\n",
       "Aug-2014              1\n",
       "Aug-2015              1\n",
       "Aug-2016              1\n",
       "Dec-2010              1\n",
       "Dec-2011              1\n",
       "Dec-2012              1\n",
       "Dec-2013              1\n",
       "Dec-2014              1\n",
       "Dec-2015              1\n",
       "Dec-2016              1\n",
       "Feb-2010              1\n",
       "Feb-2011              1\n",
       "Feb-2012              1\n",
       "Feb-2013              1\n",
       "Feb-2014              1\n",
       "Feb-2015              1\n",
       "Feb-2016              1\n",
       "Feb-2017              1\n",
       "Jan-2010              1\n",
       "...                 ...\n",
       "Mar-2015              1\n",
       "Mar-2016              1\n",
       "May-2010              1\n",
       "May-2011              1\n",
       "May-2012              1\n",
       "May-2013              1\n",
       "May-2014              1\n",
       "May-2015              1\n",
       "May-2016              1\n",
       "Nov-2010              1\n",
       "Nov-2011              1\n",
       "Nov-2012              1\n",
       "Nov-2013              1\n",
       "Nov-2014              1\n",
       "Nov-2015              1\n",
       "Nov-2016              1\n",
       "Oct-2010              1\n",
       "Oct-2011              1\n",
       "Oct-2012              1\n",
       "Oct-2013              1\n",
       "Oct-2014              1\n",
       "Oct-2015              1\n",
       "Oct-2016              1\n",
       "Sep-2010              1\n",
       "Sep-2011              1\n",
       "Sep-2012              1\n",
       "Sep-2013              1\n",
       "Sep-2014              1\n",
       "Sep-2015              1\n",
       "Sep-2016              1\n",
       "\n",
       "[86 rows x 1 columns]"
      ]
     },
     "execution_count": 92,
     "metadata": {},
     "output_type": "execute_result"
    }
   ],
   "source": [
    "df_months.count()"
   ]
  },
  {
   "cell_type": "code",
   "execution_count": 93,
   "metadata": {},
   "outputs": [
    {
     "data": {
      "text/plain": [
       "Date             Jan-2010Feb-2010Mar-2010Apr-2010May-2010Jun-20...\n",
       "Profit/Losses                                             38382578\n",
       "dtype: object"
      ]
     },
     "execution_count": 93,
     "metadata": {},
     "output_type": "execute_result"
    }
   ],
   "source": [
    "df.sum()\n",
    "\n",
    "Total=df.sum()\n",
    "Total"
   ]
  },
  {
   "cell_type": "code",
   "execution_count": 94,
   "metadata": {},
   "outputs": [],
   "source": [
    "average = df[\"Profit/Losses\"].mean "
   ]
  },
  {
   "cell_type": "code",
   "execution_count": 95,
   "metadata": {},
   "outputs": [
    {
     "data": {
      "text/plain": [
       "<bound method Series.mean of 0      867884\n",
       "1      984655\n",
       "2      322013\n",
       "3      -69417\n",
       "4      310503\n",
       "5      522857\n",
       "6     1033096\n",
       "7      604885\n",
       "8     -216386\n",
       "9      477532\n",
       "10     893810\n",
       "11     -80353\n",
       "12     779806\n",
       "13    -335203\n",
       "14     697845\n",
       "15     793163\n",
       "16     485070\n",
       "17     584122\n",
       "18      62729\n",
       "19     668179\n",
       "20     899906\n",
       "21     834719\n",
       "22     132003\n",
       "23     309978\n",
       "24    -755566\n",
       "25    1170593\n",
       "26     252788\n",
       "27    1151518\n",
       "28     817256\n",
       "29     570757\n",
       "       ...   \n",
       "56    1166643\n",
       "57     947333\n",
       "58     578668\n",
       "59     988505\n",
       "60    1139715\n",
       "61    1029471\n",
       "62     687533\n",
       "63    -524626\n",
       "64     158620\n",
       "65      87795\n",
       "66     423389\n",
       "67     840723\n",
       "68     568529\n",
       "69     332067\n",
       "70     989499\n",
       "71     778237\n",
       "72     650000\n",
       "73   -1100387\n",
       "74    -174946\n",
       "75     757143\n",
       "76     445709\n",
       "77     712961\n",
       "78   -1163797\n",
       "79     569899\n",
       "80     768450\n",
       "81     102685\n",
       "82     795914\n",
       "83      60988\n",
       "84     138230\n",
       "85     671099\n",
       "Name: Profit/Losses, Length: 86, dtype: int64>"
      ]
     },
     "execution_count": 95,
     "metadata": {},
     "output_type": "execute_result"
    }
   ],
   "source": [
    "average"
   ]
  },
  {
   "cell_type": "code",
   "execution_count": 96,
   "metadata": {},
   "outputs": [
    {
     "data": {
      "text/plain": [
       "<bound method Series.mean of Date             Jan-2010Feb-2010Mar-2010Apr-2010May-2010Jun-20...\n",
       "Profit/Losses                                             38382578\n",
       "dtype: object>"
      ]
     },
     "execution_count": 96,
     "metadata": {},
     "output_type": "execute_result"
    }
   ],
   "source": [
    "df.sum().mean"
   ]
  },
  {
   "cell_type": "code",
   "execution_count": 97,
   "metadata": {},
   "outputs": [
    {
     "data": {
      "text/plain": [
       "<bound method Series.mean of 0      867884\n",
       "1      984655\n",
       "2      322013\n",
       "3      -69417\n",
       "4      310503\n",
       "5      522857\n",
       "6     1033096\n",
       "7      604885\n",
       "8     -216386\n",
       "9      477532\n",
       "10     893810\n",
       "11     -80353\n",
       "12     779806\n",
       "13    -335203\n",
       "14     697845\n",
       "15     793163\n",
       "16     485070\n",
       "17     584122\n",
       "18      62729\n",
       "19     668179\n",
       "20     899906\n",
       "21     834719\n",
       "22     132003\n",
       "23     309978\n",
       "24    -755566\n",
       "25    1170593\n",
       "26     252788\n",
       "27    1151518\n",
       "28     817256\n",
       "29     570757\n",
       "       ...   \n",
       "56    1166643\n",
       "57     947333\n",
       "58     578668\n",
       "59     988505\n",
       "60    1139715\n",
       "61    1029471\n",
       "62     687533\n",
       "63    -524626\n",
       "64     158620\n",
       "65      87795\n",
       "66     423389\n",
       "67     840723\n",
       "68     568529\n",
       "69     332067\n",
       "70     989499\n",
       "71     778237\n",
       "72     650000\n",
       "73   -1100387\n",
       "74    -174946\n",
       "75     757143\n",
       "76     445709\n",
       "77     712961\n",
       "78   -1163797\n",
       "79     569899\n",
       "80     768450\n",
       "81     102685\n",
       "82     795914\n",
       "83      60988\n",
       "84     138230\n",
       "85     671099\n",
       "Name: Profit/Losses, Length: 86, dtype: int64>"
      ]
     },
     "execution_count": 97,
     "metadata": {},
     "output_type": "execute_result"
    }
   ],
   "source": [
    "average\n"
   ]
  },
  {
   "cell_type": "code",
   "execution_count": 98,
   "metadata": {},
   "outputs": [
    {
     "data": {
      "text/plain": [
       "Date             Sep-2016\n",
       "Profit/Losses     1170593\n",
       "dtype: object"
      ]
     },
     "execution_count": 98,
     "metadata": {},
     "output_type": "execute_result"
    }
   ],
   "source": [
    "df.max()"
   ]
  },
  {
   "cell_type": "code",
   "execution_count": 99,
   "metadata": {},
   "outputs": [
    {
     "data": {
      "text/plain": [
       "Date             Apr-2010\n",
       "Profit/Losses    -1196225\n",
       "dtype: object"
      ]
     },
     "execution_count": 99,
     "metadata": {},
     "output_type": "execute_result"
    }
   ],
   "source": [
    "df.min()"
   ]
  },
  {
   "cell_type": "code",
   "execution_count": 100,
   "metadata": {},
   "outputs": [
    {
     "data": {
      "text/plain": [
       "Date             Sep-2016\n",
       "Profit/Losses     1170593\n",
       "dtype: object"
      ]
     },
     "execution_count": 100,
     "metadata": {},
     "output_type": "execute_result"
    }
   ],
   "source": [
    "Highest_Profit =df.max()\n",
    "\n",
    "Highest_Profit"
   ]
  },
  {
   "cell_type": "code",
   "execution_count": 101,
   "metadata": {},
   "outputs": [
    {
     "data": {
      "text/plain": [
       "Date             Apr-2010\n",
       "Profit/Losses    -1196225\n",
       "dtype: object"
      ]
     },
     "execution_count": 101,
     "metadata": {},
     "output_type": "execute_result"
    }
   ],
   "source": [
    "Large_decrease =df.min()\n",
    "Large_decrease"
   ]
  },
  {
   "cell_type": "code",
   "execution_count": 102,
   "metadata": {},
   "outputs": [
    {
     "data": {
      "text/plain": [
       "Date             86\n",
       "Profit/Losses    86\n",
       "dtype: int64"
      ]
     },
     "execution_count": 102,
     "metadata": {},
     "output_type": "execute_result"
    }
   ],
   "source": [
    "Total_Month = df.count()\n",
    "\n",
    "Total_Month"
   ]
  },
  {
   "cell_type": "code",
   "execution_count": 103,
   "metadata": {},
   "outputs": [],
   "source": [
    "#Financial_Analysis ={\"Total Months\": [Total_Month]},{'Total':[Total],\"Greatest Profits Increase\": [Highest_Profit]}\\\n",
    "#,{\"Greatest Profit Decrease\": [Large_decrease]}\n",
    "\n"
   ]
  },
  {
   "cell_type": "code",
   "execution_count": 104,
   "metadata": {},
   "outputs": [],
   "source": [
    "#Financial_Analysis"
   ]
  },
  {
   "cell_type": "code",
   "execution_count": 107,
   "metadata": {},
   "outputs": [
    {
     "name": "stdout",
     "output_type": "stream",
     "text": [
      "Financial Analysis\n",
      "-------------------\n",
      "Date             Jan-2010Feb-2010Mar-2010Apr-2010May-2010Jun-20...\n",
      "Profit/Losses                                             38382578\n",
      "dtype: object\n",
      "Date             86\n",
      "Profit/Losses    86\n",
      "dtype: int64\n",
      "------------------\n",
      "Date             Sep-2016\n",
      "Profit/Losses     1170593\n",
      "dtype: object\n",
      "Date             Apr-2010\n",
      "Profit/Losses    -1196225\n",
      "dtype: object\n",
      "-------------------\n"
     ]
    }
   ],
   "source": [
    "print (\"Financial Analysis\")\n",
    "print (\"-------------------\")\n",
    "print (Total)\n",
    "print (Total_Month)\n",
    "print (\"------------------\")\n",
    "print (Highest_Profit)\n",
    "print (Large_decrease)\n",
    "print (\"-------------------\")\n"
   ]
  },
  {
   "cell_type": "code",
   "execution_count": null,
   "metadata": {},
   "outputs": [],
   "source": [
    "\n"
   ]
  },
  {
   "cell_type": "code",
   "execution_count": null,
   "metadata": {},
   "outputs": [],
   "source": []
  },
  {
   "cell_type": "code",
   "execution_count": null,
   "metadata": {},
   "outputs": [],
   "source": []
  }
 ],
 "metadata": {
  "kernelspec": {
   "display_name": "Python [conda env:PythonData]",
   "language": "python",
   "name": "conda-env-PythonData-py"
  },
  "language_info": {
   "codemirror_mode": {
    "name": "ipython",
    "version": 3
   },
   "file_extension": ".py",
   "mimetype": "text/x-python",
   "name": "python",
   "nbconvert_exporter": "python",
   "pygments_lexer": "ipython3",
   "version": "3.6.7"
  }
 },
 "nbformat": 4,
 "nbformat_minor": 2
}
